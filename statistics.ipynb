{
 "cells": [
  {
   "attachments": {},
   "cell_type": "markdown",
   "metadata": {},
   "source": [
    "# Statistics for Data Science & Machine Learning\n",
    "\n",
    "This notebook contains all of the basic concepts someone should know to do Data Science and Machine learning."
   ]
  },
  {
   "attachments": {},
   "cell_type": "markdown",
   "metadata": {},
   "source": [
    "## Basic concepts\n",
    "\n",
    "### Definitions:\n",
    "\n",
    "- _Population_ - all items or people of interest of what you are analyzing\n",
    "- _Sample_ - subset of the _Population_ that we can analyze\n",
    "\n",
    "### Markups:\n",
    "\n",
    "- _M_ - success in _Population_\n",
    "- _N_ - total _Population_\n",
    "- _n_ - total _Sample_ from _Population_\n",
    "- _x_ - success in _Sample_\n"
   ]
  },
  {
   "attachments": {},
   "cell_type": "markdown",
   "metadata": {},
   "source": []
  }
 ],
 "metadata": {
  "language_info": {
   "name": "python"
  },
  "orig_nbformat": 4
 },
 "nbformat": 4,
 "nbformat_minor": 2
}
