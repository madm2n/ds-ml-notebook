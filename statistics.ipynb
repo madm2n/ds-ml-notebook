{
 "cells": [
  {
   "attachments": {},
   "cell_type": "markdown",
   "metadata": {},
   "source": [
    "# Statistics for Data Science & Machine Learning\n",
    "\n",
    "This notebook contains all of the basic concepts someone should know to do Data Science and Machine learning."
   ]
  },
  {
   "attachments": {},
   "cell_type": "markdown",
   "metadata": {},
   "source": [
    "## Basic concepts\n",
    "\n",
    "### Definitions:\n",
    "\n",
    "- _Population_ - all items or people of interest in what you are analyzing\n",
    "- _Sample_ - subset of the _Population_ that we can analyze\n",
    "- _Success_ - results we are look for in a sample (age, is car owner or not, how owner or not)\n",
    "\n",
    "### Markups:\n",
    "\n",
    "- _M_ - _Successes_ in _Population_\n",
    "- _x_ - _Successes_ in _Sample_\n",
    "- _N_ - total _Population_\n",
    "- _n_ - total _Sample_ from _Population_\n"
   ]
  },
  {
   "attachments": {},
   "cell_type": "markdown",
   "metadata": {},
   "source": [
    "## Types of data\n",
    "\n",
    "### Categorical\n",
    "\n",
    "Any answer to a yes or no question, for example:\n",
    "\n",
    "- Home owner\n",
    "- Age 50+\n",
    "- College graduate\n",
    "\n",
    "### Numerical\n",
    "\n",
    "This data can be:\n",
    "\n",
    "- _Finite_ - has an ending value\n",
    "- _Infinite_ - does not have an ending value\n",
    "\n",
    "### Continuous\n",
    "\n",
    "Data tha can be broken down into infinitely smaller amounts, for example height, weight, time.\n",
    "\n",
    "### Qualitative\n",
    "\n",
    "This type of data can be:\n",
    "\n",
    "- _Nominal_ - mainly data for naming something that does not have an order (for example fruits)\n",
    "- _Ordinal_ - data that does has an order (bad, ok, good, great)\n",
    "\n",
    "### Quantitative\n",
    "\n",
    "Mainly separated into:\n",
    "\n",
    "- _Interval_ - is a group of numbers that includes all numbers between the beginning and the end (1, 2, 3 is an interval from 1 to 3)\n",
    "- _Ratio_ - shows how many times one number contains another. For example, if there are eight oranges and six lemons in a bowl of fruit, then the ratio of oranges to lemons is eight to six (8/6)\n"
   ]
  }
 ],
 "metadata": {
  "language_info": {
   "name": "python"
  },
  "orig_nbformat": 4
 },
 "nbformat": 4,
 "nbformat_minor": 2
}
