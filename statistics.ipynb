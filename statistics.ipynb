{
 "cells": [
  {
   "attachments": {},
   "cell_type": "markdown",
   "metadata": {},
   "source": [
    "# Statistics for Data Science & Machine Learning\n",
    "\n",
    "This notebook contains all of the basic concepts someone should know to do Data Science and Machine learning. This notebook is based on the video made by [Derek Banas](https://www.youtube.com/@derekbanas) called [Statistics for Data Science & Machine Learning\n",
    "](https://www.youtube.com/watch?v=tcusIOfI_GM&list=PLGLfVvz_LVvQy4mkmEvtFwZGg1S38MUmn).\n"
   ]
  },
  {
   "attachments": {},
   "cell_type": "markdown",
   "metadata": {},
   "source": [
    "## Basic concepts\n",
    "\n",
    "### Definitions:\n",
    "\n",
    "- _Population_ - all items or people of interest in what you are analyzing\n",
    "- _Sample_ - subset of the _Population_ that we can analyze\n",
    "- _Success_ - results we are look for in a sample (age, is car owner or not, how owner or not)\n",
    "\n",
    "### Markups:\n",
    "\n",
    "- _M_ - _Successes_ in _Population_\n",
    "- _x_ - _Successes_ in _Sample_\n",
    "- _N_ - total _Population_\n",
    "- _n_ - total _Sample_ from _Population_\n"
   ]
  },
  {
   "attachments": {},
   "cell_type": "markdown",
   "metadata": {},
   "source": [
    "## Types of data\n",
    "\n",
    "### Categorical\n",
    "\n",
    "Any answer to a yes or no question, for example:\n",
    "\n",
    "- Home owner\n",
    "- Age 50+\n",
    "- College graduate\n",
    "\n",
    "### Numerical\n",
    "\n",
    "This data can be:\n",
    "\n",
    "- _Finite_ - has an ending value\n",
    "- _Infinite_ - does not have an ending value\n",
    "\n",
    "### Continuous\n",
    "\n",
    "Data tha can be broken down into infinitely smaller amounts, for example height, weight, time.\n",
    "\n",
    "### Qualitative\n",
    "\n",
    "This type of data can be:\n",
    "\n",
    "- _Nominal_ - mainly data for naming something that does not have an order (for example fruits)\n",
    "- _Ordinal_ - data that does has an order (bad, ok, good, great)\n",
    "\n",
    "### Quantitative\n",
    "\n",
    "Mainly separated into:\n",
    "\n",
    "- _Interval_ - is a group of numbers that includes all numbers between the beginning and the end (1, 2, 3 is an interval from 1 to 3)\n",
    "- _Ratio_ - shows how many times one number contains another. For example, if there are eight oranges and six lemons in a bowl of fruit, then the ratio of oranges to lemons is eight to six (8/6)\n"
   ]
  },
  {
   "attachments": {},
   "cell_type": "markdown",
   "metadata": {},
   "source": [
    "## Charts and tools\n",
    "\n",
    "### Pareto chart\n",
    "\n",
    "A Pareto chart is a type of bar chart that combines both bar and line graphs. It visually represents the 80/20 rule, also known as the Pareto principle. The Pareto principle states that roughly 80% of the effects come from 20% of the causes. Simple explanation of the chart can be found in [this video](https://www.youtube.com/watch?v=ltBw6kwD3_o).\n",
    "\n",
    "### Frequency distribution table\n",
    "\n",
    "Represents a number of occurrences for a particular category.\n",
    "\n",
    "| Category | Frequency |\n",
    "| -------- | --------- |\n",
    "| A        | 10        |\n",
    "| B        | 15        |\n",
    "| C        | 8         |\n",
    "| D        | 12        |\n",
    "\n",
    "### Frequency histogram\n",
    "\n",
    "A histogram is a graphical representation of the distribution of a dataset. It displays the frequencies or counts of different numerical values or intervals within a given range. Simple explanation of the histogram can be found [here](https://www.youtube.com/watch?v=8TV5ha9nqm0&ab_channel=HarvardOnline).\n"
   ]
  },
  {
   "attachments": {},
   "cell_type": "markdown",
   "metadata": {},
   "source": [
    "## Calculation of the basic terms\n",
    "\n",
    "We are going to calculate basic things for the test sample (see below)."
   ]
  },
  {
   "cell_type": "code",
   "execution_count": 9,
   "metadata": {},
   "outputs": [],
   "source": [
    "sample = [10, 10, 20, 15, 125, 100]"
   ]
  },
  {
   "attachments": {},
   "cell_type": "markdown",
   "metadata": {},
   "source": [
    "### Mean (average)\n",
    "\n",
    "It's basically an average sum of values of components divided by the number of components.\n",
    "\n",
    "- _μ_ - _Mean_ of _Population_\n",
    "- _x̄_ - _Mean_ of the _Sample_"
   ]
  },
  {
   "cell_type": "code",
   "execution_count": 10,
   "metadata": {},
   "outputs": [
    {
     "name": "stdout",
     "output_type": "stream",
     "text": [
      "Mean of the sample equals to: 46.666666666666664\n"
     ]
    }
   ],
   "source": [
    "def calculate_mean(sample):\n",
    "    \"\"\"Calculate the mean of a sample.\"\"\"\n",
    "    return sum(sample) / len(sample)\n",
    "\n",
    "mean = calculate_mean(sample)\n",
    "print(f\"Mean of the sample equals to: {mean}\")"
   ]
  },
  {
   "attachments": {},
   "cell_type": "markdown",
   "metadata": {},
   "source": [
    "### Median\n",
    "\n",
    "The value in the middle of the dataset."
   ]
  },
  {
   "cell_type": "code",
   "execution_count": 11,
   "metadata": {},
   "outputs": [
    {
     "name": "stdout",
     "output_type": "stream",
     "text": [
      "Median of the sample equals to: 17.5\n"
     ]
    }
   ],
   "source": [
    "def calculate_median(sample):\n",
    "    \"\"\"\n",
    "    Calculate the median of a sample.\n",
    "    Single middle value if the sample has an odd number of elements.\n",
    "    Average of two middle values if the sample has an even number of elements.\n",
    "    \"\"\"\n",
    "    sample.sort()\n",
    "\n",
    "    if len(sample) % 2 == 0:\n",
    "        median = (sample[len(sample) // 2 - 1] + sample[len(sample) // 2]) / 2\n",
    "    else:\n",
    "        median = sample[len(sample) // 2]\n",
    "\n",
    "    return median\n",
    "\n",
    "median = calculate_median(sample)\n",
    "print(f\"Median of the sample equals to: {median}\")\n"
   ]
  },
  {
   "attachments": {},
   "cell_type": "markdown",
   "metadata": {},
   "source": [
    "### Mode\n",
    "\n",
    "The value (number) that appears the most often in the dataset."
   ]
  },
  {
   "cell_type": "code",
   "execution_count": 12,
   "metadata": {},
   "outputs": [
    {
     "name": "stdout",
     "output_type": "stream",
     "text": [
      "Mode of the sample equals to: 10\n"
     ]
    }
   ],
   "source": [
    "def calculate_mode(sample):\n",
    "    \"\"\"Calculate the mode of a sample.\"\"\"\n",
    "    mode = max(sample, key=sample.count)\n",
    "    return mode\n",
    "\n",
    "\n",
    "mode = calculate_mode(sample)\n",
    "print(f\"Mode of the sample equals to: {mode}\")"
   ]
  }
 ],
 "metadata": {
  "kernelspec": {
   "display_name": "Python 3",
   "language": "python",
   "name": "python3"
  },
  "language_info": {
   "codemirror_mode": {
    "name": "ipython",
    "version": 3
   },
   "file_extension": ".py",
   "mimetype": "text/x-python",
   "name": "python",
   "nbconvert_exporter": "python",
   "pygments_lexer": "ipython3",
   "version": "3.11.3"
  },
  "orig_nbformat": 4
 },
 "nbformat": 4,
 "nbformat_minor": 2
}
