{
 "cells": [
  {
   "attachments": {},
   "cell_type": "markdown",
   "metadata": {},
   "source": [
    "# Statistics for Data Science & Machine Learning\n",
    "\n",
    "This notebook contains all of the basic concepts someone should know to do Data Science and Machine learning. This notebook is based on the video made by [Derek Banas](https://www.youtube.com/@derekbanas) called [Statistics for Data Science & Machine Learning\n",
    "](https://www.youtube.com/watch?v=tcusIOfI_GM&list=PLGLfVvz_LVvQy4mkmEvtFwZGg1S38MUmn).\n"
   ]
  },
  {
   "attachments": {},
   "cell_type": "markdown",
   "metadata": {},
   "source": [
    "## Basic concepts\n",
    "\n",
    "### Definitions:\n",
    "\n",
    "- _Population_ - all items or people of interest in what you are analyzing\n",
    "- _Sample_ - subset of the _Population_ that we can analyze\n",
    "- _Success_ - results we are look for in a sample (age, is car owner or not, how owner or not)\n",
    "\n",
    "### Markups:\n",
    "\n",
    "- _M_ - _Successes_ in _Population_\n",
    "- _x_ - _Successes_ in _Sample_\n",
    "- _N_ - total _Population_\n",
    "- _n_ - total _Sample_ from _Population_\n"
   ]
  },
  {
   "attachments": {},
   "cell_type": "markdown",
   "metadata": {},
   "source": [
    "## Types of data\n",
    "\n",
    "### Categorical\n",
    "\n",
    "Any answer to a yes or no question, for example:\n",
    "\n",
    "- Home owner\n",
    "- Age 50+\n",
    "- College graduate\n",
    "\n",
    "### Numerical\n",
    "\n",
    "This data can be:\n",
    "\n",
    "- _Finite_ - has an ending value\n",
    "- _Infinite_ - does not have an ending value\n",
    "\n",
    "### Continuous\n",
    "\n",
    "Data tha can be broken down into infinitely smaller amounts, for example height, weight, time.\n",
    "\n",
    "### Qualitative\n",
    "\n",
    "This type of data can be:\n",
    "\n",
    "- _Nominal_ - mainly data for naming something that does not have an order (for example fruits)\n",
    "- _Ordinal_ - data that does has an order (bad, ok, good, great)\n",
    "\n",
    "### Quantitative\n",
    "\n",
    "Mainly separated into:\n",
    "\n",
    "- _Interval_ - is a group of numbers that includes all numbers between the beginning and the end (1, 2, 3 is an interval from 1 to 3)\n",
    "- _Ratio_ - shows how many times one number contains another. For example, if there are eight oranges and six lemons in a bowl of fruit, then the ratio of oranges to lemons is eight to six (8/6)\n"
   ]
  },
  {
   "attachments": {},
   "cell_type": "markdown",
   "metadata": {},
   "source": [
    "## Charts and tools\n",
    "\n",
    "### Pareto chart\n",
    "\n",
    "A Pareto chart is a type of bar chart that combines both bar and line graphs. It visually represents the 80/20 rule, also known as the Pareto principle. The Pareto principle states that roughly 80% of the effects come from 20% of the causes. Simple explanation of the chart can be found in [this video](https://www.youtube.com/watch?v=ltBw6kwD3_o).\n",
    "\n",
    "### Frequency distribution table\n",
    "\n",
    "Represents a number of occurrences for a particular category.\n",
    "\n",
    "| Category | Frequency |\n",
    "| -------- | --------- |\n",
    "| A        | 10        |\n",
    "| B        | 15        |\n",
    "| C        | 8         |\n",
    "| D        | 12        |\n",
    "\n",
    "### Frequency histogram\n",
    "\n",
    "A histogram is a graphical representation of the distribution of a dataset. It displays the frequencies or counts of different numerical values or intervals within a given range. Simple explanation of the histogram can be found [here](https://www.youtube.com/watch?v=8TV5ha9nqm0&ab_channel=HarvardOnline).\n"
   ]
  },
  {
   "attachments": {},
   "cell_type": "markdown",
   "metadata": {},
   "source": [
    "## Calculation of the basic terms\n",
    "\n",
    "We are going to calculate basic things for the test sample (see below)."
   ]
  },
  {
   "cell_type": "code",
   "execution_count": 10,
   "metadata": {},
   "outputs": [],
   "source": [
    "sample = [10, 20, 15, 10, 15, 15, 10, 22, 32]"
   ]
  },
  {
   "attachments": {},
   "cell_type": "markdown",
   "metadata": {},
   "source": [
    "### Mean (average)\n",
    "\n",
    "It's basically an average sum of values of components divided by the number of components.\n",
    "\n",
    "- _μ_ - _Mean_ of _Population_\n",
    "- _x̄_ - _Mean_ of the _Sample_"
   ]
  },
  {
   "cell_type": "code",
   "execution_count": 11,
   "metadata": {},
   "outputs": [
    {
     "name": "stdout",
     "output_type": "stream",
     "text": [
      "Mean of the sample equals to: 16.555555555555557\n"
     ]
    }
   ],
   "source": [
    "def calculate_mean(sample):\n",
    "    \"\"\"Calculate the mean of a sample.\"\"\"\n",
    "    return sum(sample) / len(sample)\n",
    "\n",
    "mean = calculate_mean(sample)\n",
    "print(f\"Mean of the sample equals to: {mean}\")"
   ]
  },
  {
   "attachments": {},
   "cell_type": "markdown",
   "metadata": {},
   "source": [
    "### Median\n",
    "\n",
    "The value in the middle of the dataset."
   ]
  },
  {
   "cell_type": "code",
   "execution_count": 12,
   "metadata": {},
   "outputs": [
    {
     "name": "stdout",
     "output_type": "stream",
     "text": [
      "Median of the sample equals to: 15\n"
     ]
    }
   ],
   "source": [
    "def calculate_median(sample):\n",
    "    \"\"\"\n",
    "    Calculate the median of a sample.\n",
    "    Single middle value if the sample has an odd number of elements.\n",
    "    Average of two middle values if the sample has an even number of elements.\n",
    "    \"\"\"\n",
    "    sample.sort()\n",
    "\n",
    "    if len(sample) % 2 == 0:\n",
    "        median = (sample[len(sample) // 2 - 1] + sample[len(sample) // 2]) / 2\n",
    "    else:\n",
    "        median = sample[len(sample) // 2]\n",
    "\n",
    "    return median\n",
    "\n",
    "median = calculate_median(sample)\n",
    "print(f\"Median of the sample equals to: {median}\")\n"
   ]
  },
  {
   "attachments": {},
   "cell_type": "markdown",
   "metadata": {},
   "source": [
    "### Mode\n",
    "\n",
    "The value (number) that appears the most often in the dataset."
   ]
  },
  {
   "cell_type": "code",
   "execution_count": 13,
   "metadata": {},
   "outputs": [
    {
     "name": "stdout",
     "output_type": "stream",
     "text": [
      "Mode of the sample equals to: [10, 15]\n"
     ]
    }
   ],
   "source": [
    "def calculate_mode(sample):\n",
    "    \"\"\"\n",
    "    Calculate the mode of a sample.\n",
    "    If there are multiple modes, return all of them.\n",
    "    \"\"\"\n",
    "    max_occur = 0\n",
    "    occurrences = {}\n",
    "\n",
    "    for value in sample:\n",
    "        if value not in occurrences:\n",
    "            occurrences[value] = 0\n",
    "        else:\n",
    "            occurrences[value] += 1\n",
    "\n",
    "        if occurrences[value] > max_occur:\n",
    "            max_occur = occurrences[value]\n",
    "\n",
    "    if max_occur <= 1:\n",
    "        return None\n",
    "\n",
    "    return [key for key, value in occurrences.items() if value == max_occur]\n",
    "\n",
    "\n",
    "mode = calculate_mode(sample)\n",
    "print(f\"Mode of the sample equals to: {mode}\")\n"
   ]
  },
  {
   "attachments": {},
   "cell_type": "markdown",
   "metadata": {},
   "source": [
    "### Variance\n",
    "\n",
    "Indicates how data is spread around _Mean_.\n",
    "\n",
    "- _σ2_ - _Variance_ of the _Population_\n",
    "- _S2_ - _Variance_ of the _Sample_\n"
   ]
  },
  {
   "cell_type": "code",
   "execution_count": 14,
   "metadata": {},
   "outputs": [
    {
     "name": "stdout",
     "output_type": "stream",
     "text": [
      "Variance of the sample equals to: 52.02777777777777\n"
     ]
    }
   ],
   "source": [
    "def calculate_variance(sample, mean):\n",
    "    \"\"\"Calculate the variance of a sample.\"\"\"\n",
    "    sample_sum = 0\n",
    "\n",
    "    for value in sample:\n",
    "        sample_sum += (value - mean) ** 2\n",
    "\n",
    "    return sample_sum / (len(sample) - 1)\n",
    "\n",
    "\n",
    "variance = calculate_variance(sample, mean)\n",
    "print(f\"Variance of the sample equals to: {variance}\")\n"
   ]
  },
  {
   "attachments": {},
   "cell_type": "markdown",
   "metadata": {},
   "source": [
    "### Standard deviation\n",
    "\n",
    "A measure of how dispersed the data is in relation to the mean.\n",
    "\n",
    "Low standard deviation means data are clustered around the mean, and high standard deviation indicates data are more spread out.\n",
    "\n",
    "- _σ_ - _Standard deviation_ of the _Population_\n",
    "- _S_ - _Standard deviation_ of the _Sample_"
   ]
  },
  {
   "cell_type": "code",
   "execution_count": 15,
   "metadata": {},
   "outputs": [
    {
     "name": "stdout",
     "output_type": "stream",
     "text": [
      "Standard deviation of the sample equals to: 7.213028336127467\n"
     ]
    }
   ],
   "source": [
    "from math import sqrt\n",
    "\n",
    "\n",
    "def calculate_standard_deviation(variance):\n",
    "    \"\"\"Calculate the standard deviation of a sample.\"\"\"\n",
    "    return sqrt(variance)\n",
    "\n",
    "\n",
    "standard_deviation = calculate_standard_deviation(variance)\n",
    "print(f\"Standard deviation of the sample equals to: {standard_deviation}\")"
   ]
  },
  {
   "attachments": {},
   "cell_type": "markdown",
   "metadata": {},
   "source": [
    "### Coefficient of variation\n",
    "\n",
    "Used to compare different datasets."
   ]
  },
  {
   "cell_type": "code",
   "execution_count": 16,
   "metadata": {},
   "outputs": [
    {
     "name": "stdout",
     "output_type": "stream",
     "text": [
      "Coefficient of variation of the sample in miles equals to: 0.1721\n",
      "Coefficient of variation of the sample in kilometers equals to: 0.1721\n"
     ]
    }
   ],
   "source": [
    "sample_miles = [3, 4, 4.5, 3.5]\n",
    "sample_kilometers = [4.828, 6.437, 7.242, 5.632]\n",
    "\n",
    "mean_miles = calculate_mean(sample_miles)\n",
    "variance_miles = calculate_variance(sample_miles, mean_miles)\n",
    "standard_deviation_miles = calculate_standard_deviation(variance_miles)\n",
    "\n",
    "mean_kilometers = calculate_mean(sample_kilometers)\n",
    "variance_kilometers = calculate_variance(sample_kilometers, mean_kilometers)\n",
    "standard_deviation_kilometers = calculate_standard_deviation(\n",
    "    variance_kilometers)\n",
    "\n",
    "\n",
    "def calculate_coefficient_of_variation(standard_deviation, mean):\n",
    "    \"\"\"Calculate the coefficient of variation of a sample.\"\"\"\n",
    "    return standard_deviation / mean\n",
    "\n",
    "\n",
    "coefficient_of_variation_miles = calculate_coefficient_of_variation(\n",
    "    standard_deviation_miles, mean_miles)\n",
    "\n",
    "print(\n",
    "    f\"Coefficient of variation of the sample in miles equals to: {round(coefficient_of_variation_miles, 4)}\")\n",
    "\n",
    "\n",
    "coefficient_of_variation_kilometers = calculate_coefficient_of_variation(\n",
    "    standard_deviation_kilometers, mean_kilometers)\n",
    "\n",
    "print(\n",
    "    f\"Coefficient of variation of the sample in kilometers equals to: {round(coefficient_of_variation_kilometers, 4)}\")\n"
   ]
  },
  {
   "attachments": {},
   "cell_type": "markdown",
   "metadata": {},
   "source": [
    "### Covariance\n",
    "\n",
    "Tells us if 2 values are moving in the same direction.\n",
    "\n",
    "- if `COV > 0` values are moving together\n",
    "- if `COV < 0` values are moving in opposite direction\n",
    "- if `COV = 0` values are independent"
   ]
  },
  {
   "cell_type": "code",
   "execution_count": 17,
   "metadata": {},
   "outputs": [
    {
     "name": "stdout",
     "output_type": "stream",
     "text": [
      "1181.2\n",
      "45.2\n",
      "Covariance of the samples equals to: 4641.56, that means they are positively correlated.\n"
     ]
    }
   ],
   "source": [
    "sample_market_cap = [1532, 1488, 1343, 928, 615]\n",
    "sample_earnings = [58, 35, 75, 41, 17]\n",
    "\n",
    "mean_market_cap = calculate_mean(sample_market_cap)\n",
    "mean_earnings = calculate_mean(sample_earnings)\n",
    "\n",
    "print(mean_market_cap)\n",
    "print(mean_earnings)\n",
    "\n",
    "\n",
    "def calculate_covariance(sample_x, sample_y, mean_x, mean_y):\n",
    "    \"\"\"Calculate the covariance of two samples.\"\"\"\n",
    "    cov = 0\n",
    "\n",
    "    for value_x, value_y in zip(sample_x, sample_y):\n",
    "        cov += (value_x - mean_x) * (value_y - mean_y)\n",
    "\n",
    "    return cov / len(sample_x) - 1\n",
    "\n",
    "\n",
    "covariance_mc_e = calculate_covariance(\n",
    "    sample_market_cap, sample_earnings, mean_market_cap, mean_earnings)\n",
    "print(\n",
    "    f\"Covariance of the samples equals to: {covariance_mc_e}, that means they are positively correlated.\")\n"
   ]
  },
  {
   "attachments": {},
   "cell_type": "markdown",
   "metadata": {},
   "source": [
    "### Corelation coefficient\n",
    "\n",
    "Adjust _Covariance_ to see relationships.\n",
    "\n",
    "- is a value between `0` and `1`\n",
    "- `0` values means independence\n",
    "- `1` perfect corelation\n",
    "- `-1` shows inverse corelation"
   ]
  },
  {
   "cell_type": "code",
   "execution_count": 18,
   "metadata": {},
   "outputs": [
    {
     "name": "stdout",
     "output_type": "stream",
     "text": [
      "Corelation coefficient of the samples equals to: 0.528, that means they are positively correlated.\n"
     ]
    }
   ],
   "source": [
    "variance_market_cap = calculate_variance(sample_market_cap, mean_market_cap)\n",
    "standard_deviation_market_cap = calculate_standard_deviation(\n",
    "    variance_market_cap)\n",
    "\n",
    "variance_earnings = calculate_variance(sample_earnings, mean_earnings)\n",
    "standard_deviation_earnings = calculate_standard_deviation(variance_earnings)\n",
    "\n",
    "\n",
    "def calculate_corelation_coefficient(covariance, standard_deviation_x, standard_deviation_y):\n",
    "    \"\"\"Calculate the correlation coefficient of two samples.\"\"\"\n",
    "    return covariance / (standard_deviation_x * standard_deviation_y)\n",
    "\n",
    "\n",
    "corelation_coefficient_mc_e = calculate_corelation_coefficient(\n",
    "    covariance_mc_e, standard_deviation_market_cap, standard_deviation_earnings)\n",
    "\n",
    "print(\n",
    "    f\"Corelation coefficient of the samples equals to: {round(corelation_coefficient_mc_e, 4)}, that means they are positively correlated.\")\n"
   ]
  },
  {
   "cell_type": "markdown",
   "metadata": {},
   "source": [
    "## Distributions\n",
    "\n",
    "Shows the basics of data distributions and errors."
   ]
  },
  {
   "cell_type": "markdown",
   "metadata": {},
   "source": [
    "### Probability distribution\n",
    "\n",
    "Finds _Probability_ of different outcomes.\n",
    "\n",
    "- _Coin flip_ probability is `P = 1/2 = 0.5`\n",
    "- _Dice roll_ probability is `P = 1/6 = 0.167`\n",
    "- _Probability_ sum is always `1`\n",
    "\n",
    "Probability distribution of dice rolls:\n",
    "\n",
    "| Sum | Probability |\n",
    "|-----|------------|\n",
    "|  2  |    1/36    |\n",
    "|  3  |    2/36    |\n",
    "|  4  |    3/36    |\n",
    "|  5  |    4/36    |\n",
    "|  6  |    5/36    |\n",
    "|  7  |    6/36    |\n",
    "|  8  |    5/36    |\n",
    "|  9  |    4/36    |\n",
    "| 10  |    3/36    |\n",
    "| 11  |    2/36    |\n",
    "| 12  |    1/36    |\n",
    "\n",
    "This probability distribution shows the number of possible ways to achieve each sum (for example, there are 6 ways to get a sum of 7, but only one way to get a sum of 2)."
   ]
  }
 ],
 "metadata": {
  "kernelspec": {
   "display_name": "Python 3",
   "language": "python",
   "name": "python3"
  },
  "language_info": {
   "codemirror_mode": {
    "name": "ipython",
    "version": 3
   },
   "file_extension": ".py",
   "mimetype": "text/x-python",
   "name": "python",
   "nbconvert_exporter": "python",
   "pygments_lexer": "ipython3",
   "version": "3.11.4"
  },
  "orig_nbformat": 4
 },
 "nbformat": 4,
 "nbformat_minor": 2
}
